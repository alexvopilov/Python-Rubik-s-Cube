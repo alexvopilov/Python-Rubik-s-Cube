{
 "cells": [
  {
   "cell_type": "code",
   "execution_count": null,
   "metadata": {},
   "outputs": [],
   "source": [
    "#pip install pycuber\n",
    "#pip install pygad"
   ]
  },
  {
   "cell_type": "code",
   "execution_count": 55,
   "metadata": {
    "ExecuteTime": {
     "end_time": "2021-01-11T12:26:10.960343Z",
     "start_time": "2021-01-11T12:26:10.957644Z"
    }
   },
   "outputs": [],
   "source": [
    "from IPython.display import clear_output\n",
    "from time import sleep\n",
    "from random import choice\n",
    "import pycuber as pc"
   ]
  },
  {
   "cell_type": "code",
   "execution_count": 64,
   "metadata": {
    "ExecuteTime": {
     "end_time": "2021-01-11T18:45:19.602604Z",
     "start_time": "2021-01-11T18:45:19.597680Z"
    }
   },
   "outputs": [
    {
     "data": {
      "text/plain": [
       "      \u001b[43m  \u001b[49m\u001b[43m  \u001b[49m\u001b[43m  \u001b[49m\n",
       "      \u001b[43m  \u001b[49m\u001b[43m  \u001b[49m\u001b[43m  \u001b[49m\n",
       "      \u001b[43m  \u001b[49m\u001b[43m  \u001b[49m\u001b[43m  \u001b[49m\n",
       "\u001b[45m  \u001b[49m\u001b[45m  \u001b[49m\u001b[45m  \u001b[49m\u001b[42m  \u001b[49m\u001b[42m  \u001b[49m\u001b[42m  \u001b[49m\u001b[41m  \u001b[49m\u001b[41m  \u001b[49m\u001b[41m  \u001b[49m\u001b[46m  \u001b[49m\u001b[46m  \u001b[49m\u001b[46m  \u001b[49m\n",
       "\u001b[45m  \u001b[49m\u001b[45m  \u001b[49m\u001b[45m  \u001b[49m\u001b[42m  \u001b[49m\u001b[42m  \u001b[49m\u001b[42m  \u001b[49m\u001b[41m  \u001b[49m\u001b[41m  \u001b[49m\u001b[41m  \u001b[49m\u001b[46m  \u001b[49m\u001b[46m  \u001b[49m\u001b[46m  \u001b[49m\n",
       "\u001b[45m  \u001b[49m\u001b[45m  \u001b[49m\u001b[45m  \u001b[49m\u001b[42m  \u001b[49m\u001b[42m  \u001b[49m\u001b[42m  \u001b[49m\u001b[41m  \u001b[49m\u001b[41m  \u001b[49m\u001b[41m  \u001b[49m\u001b[46m  \u001b[49m\u001b[46m  \u001b[49m\u001b[46m  \u001b[49m\n",
       "      \u001b[47m  \u001b[49m\u001b[47m  \u001b[49m\u001b[47m  \u001b[49m\n",
       "      \u001b[47m  \u001b[49m\u001b[47m  \u001b[49m\u001b[47m  \u001b[49m\n",
       "      \u001b[47m  \u001b[49m\u001b[47m  \u001b[49m\u001b[47m  \u001b[49m"
      ]
     },
     "execution_count": 64,
     "metadata": {},
     "output_type": "execute_result"
    }
   ],
   "source": [
    "cube = pc.Cube()\n",
    "cube"
   ]
  },
  {
   "cell_type": "code",
   "execution_count": 67,
   "metadata": {
    "ExecuteTime": {
     "end_time": "2021-01-11T19:25:21.688002Z",
     "start_time": "2021-01-11T19:25:21.685581Z"
    }
   },
   "outputs": [],
   "source": [
    "def step():\n",
    "    return choice(list(pc.Formula(\"R L U D F B R' L' U' D' F' B' R2 L2 U2 D2 F2 B2\")))"
   ]
  },
  {
   "cell_type": "code",
   "execution_count": 69,
   "metadata": {
    "ExecuteTime": {
     "end_time": "2021-01-11T19:30:06.569048Z",
     "start_time": "2021-01-11T19:30:06.565470Z"
    }
   },
   "outputs": [],
   "source": [
    "def cube_shufle(cube, sl = False):\n",
    "    d=cube\n",
    "    for _ in range(50):\n",
    "        clear_output(wait=True)\n",
    "        d(step())\n",
    "        print(d)\n",
    "        if sl:\n",
    "            sleep(0.2)\n",
    "    return d"
   ]
  },
  {
   "cell_type": "code",
   "execution_count": null,
   "metadata": {
    "ExecuteTime": {
     "end_time": "2021-01-11T19:30:05.183049Z",
     "start_time": "2021-01-11T19:30:03.378Z"
    }
   },
   "outputs": [],
   "source": [
    "cube_shufle(cube,True)"
   ]
  },
  {
   "cell_type": "code",
   "execution_count": 75,
   "metadata": {
    "ExecuteTime": {
     "end_time": "2021-01-11T19:30:53.683826Z",
     "start_time": "2021-01-11T19:30:53.068917Z"
    }
   },
   "outputs": [
    {
     "name": "stdout",
     "output_type": "stream",
     "text": [
      "         [g][b][y]\n",
      "         [w][y][o]\n",
      "         [g][r][o]\n",
      "[o][r][o][y][b][w][b][w][o][b][o][w]\n",
      "[o][r][w][g][g][b][w][o][r][y][b][y]\n",
      "[r][g][w][r][o][r][w][y][g][r][b][y]\n",
      "         [g][g][b]\n",
      "         [r][w][g]\n",
      "         [b][y][y]\n",
      "\n"
     ]
    },
    {
     "data": {
      "text/plain": [
       "[(      \u001b[43m  \u001b[49m\u001b[45m  \u001b[49m\u001b[45m  \u001b[49m\n",
       "        \u001b[42m  \u001b[49m\u001b[43m  \u001b[49m\u001b[45m  \u001b[49m\n",
       "        \u001b[42m  \u001b[49m\u001b[41m  \u001b[49m\u001b[46m  \u001b[49m\n",
       "  \u001b[46m  \u001b[49m\u001b[43m  \u001b[49m\u001b[47m  \u001b[49m\u001b[41m  \u001b[49m\u001b[46m  \u001b[49m\u001b[47m  \u001b[49m\u001b[45m  \u001b[49m\u001b[42m  \u001b[49m\u001b[47m  \u001b[49m\u001b[42m  \u001b[49m\u001b[46m  \u001b[49m\u001b[41m  \u001b[49m\n",
       "  \u001b[43m  \u001b[49m\u001b[45m  \u001b[49m\u001b[41m  \u001b[49m\u001b[42m  \u001b[49m\u001b[42m  \u001b[49m\u001b[47m  \u001b[49m\u001b[41m  \u001b[49m\u001b[41m  \u001b[49m\u001b[42m  \u001b[49m\u001b[47m  \u001b[49m\u001b[46m  \u001b[49m\u001b[46m  \u001b[49m\n",
       "  \u001b[42m  \u001b[49m\u001b[43m  \u001b[49m\u001b[46m  \u001b[49m\u001b[43m  \u001b[49m\u001b[46m  \u001b[49m\u001b[41m  \u001b[49m\u001b[46m  \u001b[49m\u001b[45m  \u001b[49m\u001b[43m  \u001b[49m\u001b[42m  \u001b[49m\u001b[45m  \u001b[49m\u001b[41m  \u001b[49m\n",
       "        \u001b[45m  \u001b[49m\u001b[47m  \u001b[49m\u001b[47m  \u001b[49m\n",
       "        \u001b[41m  \u001b[49m\u001b[47m  \u001b[49m\u001b[47m  \u001b[49m\n",
       "        \u001b[43m  \u001b[49m\u001b[43m  \u001b[49m\u001b[45m  \u001b[49m,\n",
       "  0),\n",
       " (      \u001b[42m  \u001b[49m\u001b[47m  \u001b[49m\u001b[42m  \u001b[49m\n",
       "        \u001b[43m  \u001b[49m\u001b[43m  \u001b[49m\u001b[43m  \u001b[49m\n",
       "        \u001b[42m  \u001b[49m\u001b[45m  \u001b[49m\u001b[42m  \u001b[49m\n",
       "  \u001b[47m  \u001b[49m\u001b[42m  \u001b[49m\u001b[43m  \u001b[49m\u001b[45m  \u001b[49m\u001b[46m  \u001b[49m\u001b[41m  \u001b[49m\u001b[43m  \u001b[49m\u001b[41m  \u001b[49m\u001b[47m  \u001b[49m\u001b[41m  \u001b[49m\u001b[45m  \u001b[49m\u001b[45m  \u001b[49m\n",
       "  \u001b[41m  \u001b[49m\u001b[45m  \u001b[49m\u001b[45m  \u001b[49m\u001b[43m  \u001b[49m\u001b[42m  \u001b[49m\u001b[41m  \u001b[49m\u001b[42m  \u001b[49m\u001b[41m  \u001b[49m\u001b[46m  \u001b[49m\u001b[43m  \u001b[49m\u001b[46m  \u001b[49m\u001b[47m  \u001b[49m\n",
       "  \u001b[43m  \u001b[49m\u001b[41m  \u001b[49m\u001b[46m  \u001b[49m\u001b[47m  \u001b[49m\u001b[42m  \u001b[49m\u001b[46m  \u001b[49m\u001b[41m  \u001b[49m\u001b[46m  \u001b[49m\u001b[45m  \u001b[49m\u001b[47m  \u001b[49m\u001b[47m  \u001b[49m\u001b[46m  \u001b[49m\n",
       "        \u001b[41m  \u001b[49m\u001b[45m  \u001b[49m\u001b[43m  \u001b[49m\n",
       "        \u001b[46m  \u001b[49m\u001b[47m  \u001b[49m\u001b[47m  \u001b[49m\n",
       "        \u001b[45m  \u001b[49m\u001b[42m  \u001b[49m\u001b[46m  \u001b[49m,\n",
       "  0),\n",
       " (      \u001b[45m  \u001b[49m\u001b[42m  \u001b[49m\u001b[41m  \u001b[49m\n",
       "        \u001b[41m  \u001b[49m\u001b[43m  \u001b[49m\u001b[47m  \u001b[49m\n",
       "        \u001b[41m  \u001b[49m\u001b[45m  \u001b[49m\u001b[42m  \u001b[49m\n",
       "  \u001b[47m  \u001b[49m\u001b[46m  \u001b[49m\u001b[42m  \u001b[49m\u001b[47m  \u001b[49m\u001b[42m  \u001b[49m\u001b[41m  \u001b[49m\u001b[43m  \u001b[49m\u001b[41m  \u001b[49m\u001b[47m  \u001b[49m\u001b[46m  \u001b[49m\u001b[43m  \u001b[49m\u001b[46m  \u001b[49m\n",
       "  \u001b[45m  \u001b[49m\u001b[45m  \u001b[49m\u001b[46m  \u001b[49m\u001b[43m  \u001b[49m\u001b[42m  \u001b[49m\u001b[41m  \u001b[49m\u001b[43m  \u001b[49m\u001b[41m  \u001b[49m\u001b[47m  \u001b[49m\u001b[46m  \u001b[49m\u001b[46m  \u001b[49m\u001b[46m  \u001b[49m\n",
       "  \u001b[45m  \u001b[49m\u001b[47m  \u001b[49m\u001b[47m  \u001b[49m\u001b[45m  \u001b[49m\u001b[45m  \u001b[49m\u001b[43m  \u001b[49m\u001b[46m  \u001b[49m\u001b[45m  \u001b[49m\u001b[46m  \u001b[49m\u001b[43m  \u001b[49m\u001b[41m  \u001b[49m\u001b[42m  \u001b[49m\n",
       "        \u001b[42m  \u001b[49m\u001b[43m  \u001b[49m\u001b[41m  \u001b[49m\n",
       "        \u001b[42m  \u001b[49m\u001b[47m  \u001b[49m\u001b[47m  \u001b[49m\n",
       "        \u001b[43m  \u001b[49m\u001b[42m  \u001b[49m\u001b[45m  \u001b[49m,\n",
       "  0),\n",
       " (      \u001b[43m  \u001b[49m\u001b[41m  \u001b[49m\u001b[41m  \u001b[49m\n",
       "        \u001b[46m  \u001b[49m\u001b[43m  \u001b[49m\u001b[41m  \u001b[49m\n",
       "        \u001b[41m  \u001b[49m\u001b[45m  \u001b[49m\u001b[46m  \u001b[49m\n",
       "  \u001b[42m  \u001b[49m\u001b[43m  \u001b[49m\u001b[42m  \u001b[49m\u001b[47m  \u001b[49m\u001b[42m  \u001b[49m\u001b[47m  \u001b[49m\u001b[45m  \u001b[49m\u001b[47m  \u001b[49m\u001b[47m  \u001b[49m\u001b[46m  \u001b[49m\u001b[42m  \u001b[49m\u001b[45m  \u001b[49m\n",
       "  \u001b[45m  \u001b[49m\u001b[45m  \u001b[49m\u001b[43m  \u001b[49m\u001b[45m  \u001b[49m\u001b[42m  \u001b[49m\u001b[41m  \u001b[49m\u001b[43m  \u001b[49m\u001b[41m  \u001b[49m\u001b[42m  \u001b[49m\u001b[47m  \u001b[49m\u001b[46m  \u001b[49m\u001b[46m  \u001b[49m\n",
       "  \u001b[46m  \u001b[49m\u001b[45m  \u001b[49m\u001b[42m  \u001b[49m\u001b[47m  \u001b[49m\u001b[42m  \u001b[49m\u001b[42m  \u001b[49m\u001b[43m  \u001b[49m\u001b[41m  \u001b[49m\u001b[46m  \u001b[49m\u001b[43m  \u001b[49m\u001b[46m  \u001b[49m\u001b[43m  \u001b[49m\n",
       "        \u001b[45m  \u001b[49m\u001b[43m  \u001b[49m\u001b[41m  \u001b[49m\n",
       "        \u001b[47m  \u001b[49m\u001b[47m  \u001b[49m\u001b[46m  \u001b[49m\n",
       "        \u001b[41m  \u001b[49m\u001b[47m  \u001b[49m\u001b[45m  \u001b[49m,\n",
       "  0),\n",
       " (      \u001b[42m  \u001b[49m\u001b[46m  \u001b[49m\u001b[43m  \u001b[49m\n",
       "        \u001b[47m  \u001b[49m\u001b[43m  \u001b[49m\u001b[41m  \u001b[49m\n",
       "        \u001b[42m  \u001b[49m\u001b[45m  \u001b[49m\u001b[41m  \u001b[49m\n",
       "  \u001b[41m  \u001b[49m\u001b[45m  \u001b[49m\u001b[41m  \u001b[49m\u001b[43m  \u001b[49m\u001b[46m  \u001b[49m\u001b[47m  \u001b[49m\u001b[46m  \u001b[49m\u001b[47m  \u001b[49m\u001b[41m  \u001b[49m\u001b[46m  \u001b[49m\u001b[41m  \u001b[49m\u001b[47m  \u001b[49m\n",
       "  \u001b[41m  \u001b[49m\u001b[45m  \u001b[49m\u001b[47m  \u001b[49m\u001b[42m  \u001b[49m\u001b[42m  \u001b[49m\u001b[46m  \u001b[49m\u001b[47m  \u001b[49m\u001b[41m  \u001b[49m\u001b[45m  \u001b[49m\u001b[43m  \u001b[49m\u001b[46m  \u001b[49m\u001b[43m  \u001b[49m\n",
       "  \u001b[45m  \u001b[49m\u001b[42m  \u001b[49m\u001b[47m  \u001b[49m\u001b[45m  \u001b[49m\u001b[41m  \u001b[49m\u001b[45m  \u001b[49m\u001b[47m  \u001b[49m\u001b[43m  \u001b[49m\u001b[42m  \u001b[49m\u001b[45m  \u001b[49m\u001b[46m  \u001b[49m\u001b[43m  \u001b[49m\n",
       "        \u001b[42m  \u001b[49m\u001b[42m  \u001b[49m\u001b[46m  \u001b[49m\n",
       "        \u001b[45m  \u001b[49m\u001b[47m  \u001b[49m\u001b[42m  \u001b[49m\n",
       "        \u001b[46m  \u001b[49m\u001b[43m  \u001b[49m\u001b[43m  \u001b[49m,\n",
       "  0)]"
      ]
     },
     "execution_count": 75,
     "metadata": {},
     "output_type": "execute_result"
    }
   ],
   "source": [
    "l = ((cube_shufle(pc.Cube()),0) for i in range(5))"
   ]
  }
 ],
 "metadata": {
  "kernelspec": {
   "display_name": "Python 3",
   "language": "python",
   "name": "python3"
  },
  "language_info": {
   "codemirror_mode": {
    "name": "ipython",
    "version": 3
   },
   "file_extension": ".py",
   "mimetype": "text/x-python",
   "name": "python",
   "nbconvert_exporter": "python",
   "pygments_lexer": "ipython3",
   "version": "3.7.6"
  },
  "varInspector": {
   "cols": {
    "lenName": 16,
    "lenType": 16,
    "lenVar": 40
   },
   "kernels_config": {
    "python": {
     "delete_cmd_postfix": "",
     "delete_cmd_prefix": "del ",
     "library": "var_list.py",
     "varRefreshCmd": "print(var_dic_list())"
    },
    "r": {
     "delete_cmd_postfix": ") ",
     "delete_cmd_prefix": "rm(",
     "library": "var_list.r",
     "varRefreshCmd": "cat(var_dic_list()) "
    }
   },
   "types_to_exclude": [
    "module",
    "function",
    "builtin_function_or_method",
    "instance",
    "_Feature"
   ],
   "window_display": false
  }
 },
 "nbformat": 4,
 "nbformat_minor": 4
}
